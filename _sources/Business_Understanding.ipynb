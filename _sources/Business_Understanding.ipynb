{
  "cells": [
    {
      "cell_type": "markdown",
      "metadata": {
        "id": "qQN0D4Lc0h6t"
      },
      "source": [
        "# Business Understanding – Prediksi Risiko Penyakit Jantung dan Pembuluh Darah\n",
        "\n",
        "## 1. Latar Belakang Masalah\n",
        "Penyakit jantung dan pembuluh darah merupakan salah satu penyebab kematian tertinggi di dunia.  \n",
        "Faktor gaya hidup seperti pola makan, aktivitas fisik, konsumsi alkohol, kebiasaan merokok, dan riwayat kesehatan individu memiliki pengaruh besar terhadap risiko penyakit ini.  \n",
        "Analisis berbasis data dapat membantu mengidentifikasi pola risiko sejak dini, sehingga pencegahan dapat dilakukan lebih efektif.\n",
        "\n",
        "---\n",
        "\n",
        "## 2. Tujuan Bisnis / Penelitian\n",
        "- Memprediksi risiko penyakit jantung dan pembuluh darah berdasarkan data gaya hidup, demografi, dan riwayat kesehatan individu.\n",
        "- Memberikan wawasan kepada masyarakat dan tenaga medis untuk mencegah penyakit melalui rekomendasi personalisasi gaya hidup sehat.\n",
        "- Mendukung program kesehatan masyarakat untuk memprioritaskan kelompok berisiko tinggi.\n",
        "\n",
        "---\n",
        "\n",
        "## 3. Permasalahan Utama\n",
        "- Deteksi dini penyakit jantung masih kurang optimal karena keterbatasan pemeriksaan rutin.\n",
        "- Banyak individu tidak menyadari bahwa gaya hidup sehari-hari meningkatkan risiko penyakit jantung.\n",
        "- Tenaga medis membutuhkan cara efisien untuk mengidentifikasi kelompok masyarakat berisiko tinggi secara cepat dan akurat.\n",
        "\n",
        "---\n",
        "\n",
        "## 4. Dampak yang Diharapkan\n",
        "- Meningkatkan kesadaran masyarakat tentang pentingnya pemeriksaan kesehatan dan gaya hidup sehat.\n",
        "- Memungkinkan intervensi kesehatan lebih cepat dan terarah bagi kelompok berisiko.\n",
        "- Memberikan dasar ilmiah untuk kampanye kesehatan dan kebijakan publik terkait pencegahan penyakit kardiovaskular.\n",
        "\n",
        "---\n",
        "\n",
        "## 5. Tujuan Analitis (Data Science Goal)\n",
        "- Melakukan analisis eksplorasi data untuk memahami hubungan faktor gaya hidup (merokok, konsumsi alkohol, pola makan, olahraga) dengan risiko penyakit jantung.\n",
        "- Mengembangkan model prediksi (klasifikasi) untuk mengidentifikasi individu dengan risiko tinggi penyakit jantung dan pembuluh darah.\n",
        "- Mengukur kontribusi masing-masing faktor (feature importance) untuk memahami variabel yang paling berpengaruh.\n",
        "- Memberikan rekomendasi berbasis data untuk langkah pencegahan.\n",
        "\n",
        "---"
      ]
    }
  ],
  "metadata": {
    "colab": {
      "provenance": []
    },
    "kernelspec": {
      "display_name": "Python 3",
      "language": "python",
      "name": "python3"
    },
    "language_info": {
      "name": "python",
      "version": "3.11.13"
    }
  },
  "nbformat": 4,
  "nbformat_minor": 0
}
