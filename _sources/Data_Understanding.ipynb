{
  "cells": [
    {
      "cell_type": "markdown",
      "metadata": {
        "id": "Y-LbMNKQ2gZ1"
      },
      "source": [
        "# Data Understanding\n",
        "\n",
        "Dataset ini berfokus pada faktor gaya hidup dan riwayat kesehatan untuk memprediksi risiko penyakit jantung dan pembuluh darah. Dataset berisi informasi demografi, kebiasaan gaya hidup, riwayat kesehatan, dan hasil pemeriksaan medis sederhana.  \n",
        "\n",
        "## Ringkasan Dataset\n",
        "- Jumlah Fitur: 19 kolom\n",
        "- Tipe Data: Kombinasi kategorikal dan numerik\n",
        "- Target Utama: `Heart_Disease` (Yes/No)\n",
        "\n",
        "## Deskripsi Variabel\n",
        "| Kolom                           | Deskripsi |\n",
        "|--------------------------------|-----------|\n",
        "| **General_Health**             | Penilaian kesehatan secara umum oleh responden (Poor, Fair, Good, Very Good, Excellent). |\n",
        "| **Checkup**                    | Frekuensi pemeriksaan kesehatan (misalnya: Within the past year, Within the past 2 years). |\n",
        "| **Exercise**                   | Status aktivitas fisik rutin (Yes/No). |\n",
        "| **Heart_Disease**              | Diagnosis penyakit jantung (Yes/No) – target prediksi. |\n",
        "| **Skin_Cancer**                | Riwayat kanker kulit (Yes/No). |\n",
        "| **Other_Cancer**               | Riwayat kanker lain (Yes/No). |\n",
        "| **Depression**                 | Riwayat depresi (Yes/No). |\n",
        "| **Diabetes**                   | Status diabetes (Yes/No). |\n",
        "| **Arthritis**                  | Riwayat radang sendi (Yes/No). |\n",
        "| **Sex**                        | Jenis kelamin (Male/Female). |\n",
        "| **Age_Category**               | Kategori umur responden (misalnya: 60-64, 70-74, 80+). |\n",
        "| **Height_(cm)**                | Tinggi badan (dalam cm). |\n",
        "| **Weight_(kg)**                | Berat badan (dalam kg). |\n",
        "| **BMI**                        | Body Mass Index (BMI) responden, dihitung dari berat dan tinggi badan. |\n",
        "| **Smoking_History**            | Riwayat merokok (Yes/No). |\n",
        "| **Alcohol_Consumption**        | Konsumsi alkohol rata-rata per bulan. |\n",
        "| **Fruit_Consumption**          | Konsumsi buah rata-rata per bulan. |\n",
        "| **Green_Vegetables_Consumption** | Konsumsi sayuran hijau rata-rata per bulan. |\n",
        "| **FriedPotato_Consumption**    | Konsumsi kentang goreng rata-rata per bulan. |\n",
        "\n",
        "## Karakteristik Data\n",
        "- Kolom kategorikal: `General_Health`, `Checkup`, `Exercise`, `Heart_Disease`, `Skin_Cancer`, `Other_Cancer`, `Depression`, `Diabetes`, `Arthritis`, `Sex`, `Smoking_History`.\n",
        "- Kolom numerik: `Height_(cm)`, `Weight_(kg)`, `BMI`, `Alcohol_Consumption`, `Fruit_Consumption`, `Green_Vegetables_Consumption`, `FriedPotato_Consumption`.\n",
        "- Data konsumsi makanan dan alkohol (`Alcohol_Consumption`, `Fruit_Consumption`, dll.) kemungkinan dihitung dari **self-report** dengan survei, dinyatakan sebagai jumlah rata-rata konsumsi per bulan.\n",
        "\n",
        "---\n",
        "\n",
        "\n"
      ]
    }
  ],
  "metadata": {
    "colab": {
      "provenance": []
    },
    "kernelspec": {
      "display_name": "Python 3",
      "name": "python3"
    },
    "language_info": {
      "name": "python"
    }
  },
  "nbformat": 4,
  "nbformat_minor": 0
}
