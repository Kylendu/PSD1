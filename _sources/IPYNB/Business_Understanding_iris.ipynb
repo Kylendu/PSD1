{
  "nbformat": 4,
  "nbformat_minor": 0,
  "metadata": {
    "colab": {
      "provenance": []
    },
    "kernelspec": {
      "name": "python3",
      "display_name": "Python 3"
    },
    "language_info": {
      "name": "python"
    }
  },
  "cells": [
    {
      "cell_type": "markdown",
      "source": [
        "# Business Understanding\n",
        "\n",
        "## Latar Belakang\n",
        "Dalam dunia botani dan machine learning, mengenali jenis bunga berdasarkan ciri fisik sangat penting.\n",
        "Dataset Iris sering digunakan sebagai contoh kasus klasik dalam analisis data dan pembelajaran mesin,\n",
        "karena memiliki fitur numerik yang jelas serta target klasifikasi berupa spesies bunga.\n",
        "\n",
        "## Tujuan\n",
        "- Mengidentifikasi karakteristik utama dari setiap spesies iris berdasarkan ukuran sepal dan petal.\n",
        "- Membangun pemahaman awal bagaimana perbedaan ukuran kelopak dan mahkota dapat digunakan untuk membedakan spesies.\n",
        "- Menyediakan data dasar yang dapat digunakan untuk model klasifikasi otomatis pada spesies bunga iris.\n",
        "\n",
        "## Permasalahan Bisnis\n",
        "- Bagaimana cara membedakan spesies iris hanya dengan melihat ukuran sepal dan petal?\n",
        "- Fitur apa yang paling berpengaruh dalam klasifikasi spesies bunga?\n",
        "- Bagaimana distribusi data pada setiap spesies sehingga bisa digunakan sebagai dasar pengambilan keputusan?\n",
        "\n",
        "## Manfaat\n",
        "- Bagi botanis/peneliti: membantu dalam identifikasi spesies bunga tanpa harus menggunakan metode laboratorium.  \n",
        "- Bagi data scientist/AI engineer: sebagai dataset dasar untuk mempelajari algoritma klasifikasi, evaluasi model, dan visualisasi data.  \n",
        "- Bagi dunia pendidikan: memberikan contoh nyata bagaimana data digunakan untuk mendukung pengambilan keputusan ilmiah.  \n"
      ],
      "metadata": {
        "id": "JxcjM1ubD45H"
      }
    }
  ]
}